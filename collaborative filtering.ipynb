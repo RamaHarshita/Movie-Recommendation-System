{
 "cells": [
  {
   "cell_type": "code",
   "execution_count": 1,
   "id": "568bc746",
   "metadata": {},
   "outputs": [],
   "source": [
    "import pandas as pd"
   ]
  },
  {
   "cell_type": "code",
   "execution_count": 33,
   "id": "5785bbc4",
   "metadata": {},
   "outputs": [],
   "source": [
    "ratings = pd.read_csv('./Data sets/ratings.csv')\n",
    "movies = pd.read_csv('./Data sets/movies.csv')\n",
    "ratings = pd.merge(movies,ratings).drop(['genres','timestamp'],axis=1)"
   ]
  },
  {
   "cell_type": "code",
   "execution_count": 3,
   "id": "26842213",
   "metadata": {},
   "outputs": [],
   "source": [
    "userRatings = ratings.pivot_table(index=['userId'],columns=['title'],values='rating')\n",
    "#userRatings.head()\n",
    "userRatings = userRatings.dropna(thresh=10, axis=1).fillna(0,axis=1)\n",
    "#userRatings.head()"
   ]
  },
  {
   "cell_type": "code",
   "execution_count": 4,
   "id": "100f5368",
   "metadata": {},
   "outputs": [],
   "source": [
    "corrMatrix = userRatings.corr(method='pearson')\n",
    "#corrMatrix.head(10)"
   ]
  },
  {
   "cell_type": "code",
   "execution_count": 5,
   "id": "2d20d72b",
   "metadata": {},
   "outputs": [],
   "source": [
    "def get_similar(movie_name,rating):\n",
    "    similar_ratings = corrMatrix[movie_name]*(rating-2.5)\n",
    "    similar_ratings = similar_ratings.sort_values(ascending=False)\n",
    "    return similar_ratings"
   ]
  },
  {
   "cell_type": "code",
   "execution_count": 15,
   "id": "0a6bf464",
   "metadata": {},
   "outputs": [
    {
     "name": "stdin",
     "output_type": "stream",
     "text": [
      "no of movies: 1\n",
      "Movie: Toy Story 2 (1999)\n",
      "rating: 7\n"
     ]
    },
    {
     "data": {
      "text/plain": [
       "[('Toy Story 2 (1999)', 7)]"
      ]
     },
     "execution_count": 15,
     "metadata": {},
     "output_type": "execute_result"
    }
   ],
   "source": [
    "user=[]\n",
    "t = input(\"no of movies:\")\n",
    "for i in range(int(t)):\n",
    "    movie=input(\"Movie:\")\n",
    "    rating=input(\"rating:\")\n",
    "    user.append((movie,int(rating)))\n",
    "user  "
   ]
  },
  {
   "cell_type": "code",
   "execution_count": 17,
   "id": "1509e4aa",
   "metadata": {},
   "outputs": [
    {
     "data": {
      "text/plain": [
       "title\n",
       "Toy Story 2 (1999)                  4.500000\n",
       "Bug's Life, A (1998)                2.498186\n",
       "Toy Story (1995)                    2.077925\n",
       "Galaxy Quest (1999)                 1.997381\n",
       "Shrek (2001)                        1.945598\n",
       "Monsters, Inc. (2001)               1.944643\n",
       "Emperor's New Groove, The (2000)    1.842937\n",
       "Men in Black (a.k.a. MIB) (1997)    1.808837\n",
       "Shrek 2 (2004)                      1.786577\n",
       "Little Mermaid, The (1989)          1.783577\n",
       "Jurassic Park III (2001)            1.781530\n",
       "Antz (1998)                         1.762892\n",
       "Mulan (1998)                        1.738019\n",
       "X2: X-Men United (2003)             1.732534\n",
       "Honey, I Shrunk the Kids (1989)     1.726903\n",
       "Peter Pan (1953)                    1.717417\n",
       "Sixth Sense, The (1999)             1.716113\n",
       "Truman Show, The (1998)             1.715702\n",
       "Goonies, The (1985)                 1.707829\n",
       "Chicken Run (2000)                  1.705267\n",
       "dtype: float64"
      ]
     },
     "execution_count": 17,
     "metadata": {},
     "output_type": "execute_result"
    }
   ],
   "source": [
    "\n",
    "similar_movies = pd.DataFrame()\n",
    "for movie,rating in user:\n",
    "    similar_movies = similar_movies._append(get_similar(movie,rating),ignore_index = True)\n",
    "\n",
    "similar_movies.head(10)\n",
    "similar_movies.sum().sort_values(ascending=False).head(20)"
   ]
  },
  {
   "cell_type": "code",
   "execution_count": null,
   "id": "0da1a12e-c5b9-425b-9bcb-3219a73cd3dc",
   "metadata": {},
   "outputs": [],
   "source": []
  }
 ],
 "metadata": {
  "kernelspec": {
   "display_name": "Python 3 (ipykernel)",
   "language": "python",
   "name": "python3"
  },
  "language_info": {
   "codemirror_mode": {
    "name": "ipython",
    "version": 3
   },
   "file_extension": ".py",
   "mimetype": "text/x-python",
   "name": "python",
   "nbconvert_exporter": "python",
   "pygments_lexer": "ipython3",
   "version": "3.11.7"
  }
 },
 "nbformat": 4,
 "nbformat_minor": 5
}
